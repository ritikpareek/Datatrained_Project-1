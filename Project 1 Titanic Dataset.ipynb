{
 "cells": [
  {
   "cell_type": "markdown",
   "metadata": {},
   "source": [
    "# Titanic Dataset"
   ]
  },
  {
   "cell_type": "code",
   "execution_count": 1,
   "metadata": {},
   "outputs": [],
   "source": [
    "import numpy as np\n",
    "import pandas as pd\n",
    "import matplotlib.pyplot as plt\n",
    "%matplotlib inline \n",
    "import seaborn as sns\n",
    "import warnings\n",
    "warnings.filterwarnings('ignore')"
   ]
  },
  {
   "cell_type": "code",
   "execution_count": 2,
   "metadata": {},
   "outputs": [],
   "source": [
    "ds=pd.read_csv('titanic.csv')"
   ]
  },
  {
   "cell_type": "code",
   "execution_count": 3,
   "metadata": {},
   "outputs": [],
   "source": [
    "df=pd.DataFrame(ds)"
   ]
  },
  {
   "cell_type": "code",
   "execution_count": 4,
   "metadata": {},
   "outputs": [
    {
     "data": {
      "text/html": [
       "<div>\n",
       "<style scoped>\n",
       "    .dataframe tbody tr th:only-of-type {\n",
       "        vertical-align: middle;\n",
       "    }\n",
       "\n",
       "    .dataframe tbody tr th {\n",
       "        vertical-align: top;\n",
       "    }\n",
       "\n",
       "    .dataframe thead th {\n",
       "        text-align: right;\n",
       "    }\n",
       "</style>\n",
       "<table border=\"1\" class=\"dataframe\">\n",
       "  <thead>\n",
       "    <tr style=\"text-align: right;\">\n",
       "      <th></th>\n",
       "      <th>PassengerId</th>\n",
       "      <th>Survived</th>\n",
       "      <th>Pclass</th>\n",
       "      <th>Name</th>\n",
       "      <th>Sex</th>\n",
       "      <th>Age</th>\n",
       "      <th>SibSp</th>\n",
       "      <th>Parch</th>\n",
       "      <th>Ticket</th>\n",
       "      <th>Fare</th>\n",
       "      <th>Cabin</th>\n",
       "      <th>Embarked</th>\n",
       "    </tr>\n",
       "  </thead>\n",
       "  <tbody>\n",
       "    <tr>\n",
       "      <th>0</th>\n",
       "      <td>1</td>\n",
       "      <td>0</td>\n",
       "      <td>3</td>\n",
       "      <td>Braund, Mr. Owen Harris</td>\n",
       "      <td>male</td>\n",
       "      <td>22.0</td>\n",
       "      <td>1</td>\n",
       "      <td>0</td>\n",
       "      <td>A/5 21171</td>\n",
       "      <td>7.2500</td>\n",
       "      <td>NaN</td>\n",
       "      <td>S</td>\n",
       "    </tr>\n",
       "    <tr>\n",
       "      <th>1</th>\n",
       "      <td>2</td>\n",
       "      <td>1</td>\n",
       "      <td>1</td>\n",
       "      <td>Cumings, Mrs. John Bradley (Florence Briggs Th...</td>\n",
       "      <td>female</td>\n",
       "      <td>38.0</td>\n",
       "      <td>1</td>\n",
       "      <td>0</td>\n",
       "      <td>PC 17599</td>\n",
       "      <td>71.2833</td>\n",
       "      <td>C85</td>\n",
       "      <td>C</td>\n",
       "    </tr>\n",
       "    <tr>\n",
       "      <th>2</th>\n",
       "      <td>3</td>\n",
       "      <td>1</td>\n",
       "      <td>3</td>\n",
       "      <td>Heikkinen, Miss. Laina</td>\n",
       "      <td>female</td>\n",
       "      <td>26.0</td>\n",
       "      <td>0</td>\n",
       "      <td>0</td>\n",
       "      <td>STON/O2. 3101282</td>\n",
       "      <td>7.9250</td>\n",
       "      <td>NaN</td>\n",
       "      <td>S</td>\n",
       "    </tr>\n",
       "    <tr>\n",
       "      <th>3</th>\n",
       "      <td>4</td>\n",
       "      <td>1</td>\n",
       "      <td>1</td>\n",
       "      <td>Futrelle, Mrs. Jacques Heath (Lily May Peel)</td>\n",
       "      <td>female</td>\n",
       "      <td>35.0</td>\n",
       "      <td>1</td>\n",
       "      <td>0</td>\n",
       "      <td>113803</td>\n",
       "      <td>53.1000</td>\n",
       "      <td>C123</td>\n",
       "      <td>S</td>\n",
       "    </tr>\n",
       "    <tr>\n",
       "      <th>4</th>\n",
       "      <td>5</td>\n",
       "      <td>0</td>\n",
       "      <td>3</td>\n",
       "      <td>Allen, Mr. William Henry</td>\n",
       "      <td>male</td>\n",
       "      <td>35.0</td>\n",
       "      <td>0</td>\n",
       "      <td>0</td>\n",
       "      <td>373450</td>\n",
       "      <td>8.0500</td>\n",
       "      <td>NaN</td>\n",
       "      <td>S</td>\n",
       "    </tr>\n",
       "  </tbody>\n",
       "</table>\n",
       "</div>"
      ],
      "text/plain": [
       "   PassengerId  Survived  Pclass  \\\n",
       "0            1         0       3   \n",
       "1            2         1       1   \n",
       "2            3         1       3   \n",
       "3            4         1       1   \n",
       "4            5         0       3   \n",
       "\n",
       "                                                Name     Sex   Age  SibSp  \\\n",
       "0                            Braund, Mr. Owen Harris    male  22.0      1   \n",
       "1  Cumings, Mrs. John Bradley (Florence Briggs Th...  female  38.0      1   \n",
       "2                             Heikkinen, Miss. Laina  female  26.0      0   \n",
       "3       Futrelle, Mrs. Jacques Heath (Lily May Peel)  female  35.0      1   \n",
       "4                           Allen, Mr. William Henry    male  35.0      0   \n",
       "\n",
       "   Parch            Ticket     Fare Cabin Embarked  \n",
       "0      0         A/5 21171   7.2500   NaN        S  \n",
       "1      0          PC 17599  71.2833   C85        C  \n",
       "2      0  STON/O2. 3101282   7.9250   NaN        S  \n",
       "3      0            113803  53.1000  C123        S  \n",
       "4      0            373450   8.0500   NaN        S  "
      ]
     },
     "execution_count": 4,
     "metadata": {},
     "output_type": "execute_result"
    }
   ],
   "source": [
    "df.head()"
   ]
  },
  {
   "cell_type": "code",
   "execution_count": 5,
   "metadata": {},
   "outputs": [],
   "source": [
    "df.drop(['PassengerId','Name','Ticket','Cabin'],axis=1,inplace=True)"
   ]
  },
  {
   "cell_type": "code",
   "execution_count": 6,
   "metadata": {},
   "outputs": [
    {
     "data": {
      "text/html": [
       "<div>\n",
       "<style scoped>\n",
       "    .dataframe tbody tr th:only-of-type {\n",
       "        vertical-align: middle;\n",
       "    }\n",
       "\n",
       "    .dataframe tbody tr th {\n",
       "        vertical-align: top;\n",
       "    }\n",
       "\n",
       "    .dataframe thead th {\n",
       "        text-align: right;\n",
       "    }\n",
       "</style>\n",
       "<table border=\"1\" class=\"dataframe\">\n",
       "  <thead>\n",
       "    <tr style=\"text-align: right;\">\n",
       "      <th></th>\n",
       "      <th>Survived</th>\n",
       "      <th>Pclass</th>\n",
       "      <th>Sex</th>\n",
       "      <th>Age</th>\n",
       "      <th>SibSp</th>\n",
       "      <th>Parch</th>\n",
       "      <th>Fare</th>\n",
       "      <th>Embarked</th>\n",
       "    </tr>\n",
       "  </thead>\n",
       "  <tbody>\n",
       "    <tr>\n",
       "      <th>0</th>\n",
       "      <td>0</td>\n",
       "      <td>3</td>\n",
       "      <td>male</td>\n",
       "      <td>22.0</td>\n",
       "      <td>1</td>\n",
       "      <td>0</td>\n",
       "      <td>7.2500</td>\n",
       "      <td>S</td>\n",
       "    </tr>\n",
       "    <tr>\n",
       "      <th>1</th>\n",
       "      <td>1</td>\n",
       "      <td>1</td>\n",
       "      <td>female</td>\n",
       "      <td>38.0</td>\n",
       "      <td>1</td>\n",
       "      <td>0</td>\n",
       "      <td>71.2833</td>\n",
       "      <td>C</td>\n",
       "    </tr>\n",
       "    <tr>\n",
       "      <th>2</th>\n",
       "      <td>1</td>\n",
       "      <td>3</td>\n",
       "      <td>female</td>\n",
       "      <td>26.0</td>\n",
       "      <td>0</td>\n",
       "      <td>0</td>\n",
       "      <td>7.9250</td>\n",
       "      <td>S</td>\n",
       "    </tr>\n",
       "    <tr>\n",
       "      <th>3</th>\n",
       "      <td>1</td>\n",
       "      <td>1</td>\n",
       "      <td>female</td>\n",
       "      <td>35.0</td>\n",
       "      <td>1</td>\n",
       "      <td>0</td>\n",
       "      <td>53.1000</td>\n",
       "      <td>S</td>\n",
       "    </tr>\n",
       "    <tr>\n",
       "      <th>4</th>\n",
       "      <td>0</td>\n",
       "      <td>3</td>\n",
       "      <td>male</td>\n",
       "      <td>35.0</td>\n",
       "      <td>0</td>\n",
       "      <td>0</td>\n",
       "      <td>8.0500</td>\n",
       "      <td>S</td>\n",
       "    </tr>\n",
       "  </tbody>\n",
       "</table>\n",
       "</div>"
      ],
      "text/plain": [
       "   Survived  Pclass     Sex   Age  SibSp  Parch     Fare Embarked\n",
       "0         0       3    male  22.0      1      0   7.2500        S\n",
       "1         1       1  female  38.0      1      0  71.2833        C\n",
       "2         1       3  female  26.0      0      0   7.9250        S\n",
       "3         1       1  female  35.0      1      0  53.1000        S\n",
       "4         0       3    male  35.0      0      0   8.0500        S"
      ]
     },
     "execution_count": 6,
     "metadata": {},
     "output_type": "execute_result"
    }
   ],
   "source": [
    "df.head()"
   ]
  },
  {
   "cell_type": "code",
   "execution_count": 7,
   "metadata": {},
   "outputs": [
    {
     "data": {
      "text/plain": [
       "(891, 8)"
      ]
     },
     "execution_count": 7,
     "metadata": {},
     "output_type": "execute_result"
    }
   ],
   "source": [
    "df.shape"
   ]
  },
  {
   "cell_type": "code",
   "execution_count": 8,
   "metadata": {},
   "outputs": [
    {
     "name": "stdout",
     "output_type": "stream",
     "text": [
      "<class 'pandas.core.frame.DataFrame'>\n",
      "RangeIndex: 891 entries, 0 to 890\n",
      "Data columns (total 8 columns):\n",
      " #   Column    Non-Null Count  Dtype  \n",
      "---  ------    --------------  -----  \n",
      " 0   Survived  891 non-null    int64  \n",
      " 1   Pclass    891 non-null    int64  \n",
      " 2   Sex       891 non-null    object \n",
      " 3   Age       714 non-null    float64\n",
      " 4   SibSp     891 non-null    int64  \n",
      " 5   Parch     891 non-null    int64  \n",
      " 6   Fare      891 non-null    float64\n",
      " 7   Embarked  889 non-null    object \n",
      "dtypes: float64(2), int64(4), object(2)\n",
      "memory usage: 55.8+ KB\n"
     ]
    }
   ],
   "source": [
    "df.info()"
   ]
  },
  {
   "cell_type": "code",
   "execution_count": 9,
   "metadata": {},
   "outputs": [],
   "source": [
    "from sklearn.preprocessing import LabelEncoder"
   ]
  },
  {
   "cell_type": "code",
   "execution_count": 10,
   "metadata": {},
   "outputs": [],
   "source": [
    "label=LabelEncoder()\n",
    "df.Sex=label.fit_transform(df.Sex)"
   ]
  },
  {
   "cell_type": "code",
   "execution_count": 11,
   "metadata": {},
   "outputs": [
    {
     "data": {
      "text/plain": [
       "Survived      int64\n",
       "Pclass        int64\n",
       "Sex           int32\n",
       "Age         float64\n",
       "SibSp         int64\n",
       "Parch         int64\n",
       "Fare        float64\n",
       "Embarked     object\n",
       "dtype: object"
      ]
     },
     "execution_count": 11,
     "metadata": {},
     "output_type": "execute_result"
    }
   ],
   "source": [
    "df.dtypes"
   ]
  },
  {
   "cell_type": "code",
   "execution_count": 12,
   "metadata": {},
   "outputs": [
    {
     "data": {
      "text/plain": [
       "S    644\n",
       "C    168\n",
       "Q     77\n",
       "Name: Embarked, dtype: int64"
      ]
     },
     "execution_count": 12,
     "metadata": {},
     "output_type": "execute_result"
    }
   ],
   "source": [
    "df['Embarked'].value_counts()"
   ]
  },
  {
   "cell_type": "code",
   "execution_count": 13,
   "metadata": {},
   "outputs": [
    {
     "data": {
      "text/plain": [
       "Survived      0\n",
       "Pclass        0\n",
       "Sex           0\n",
       "Age         177\n",
       "SibSp         0\n",
       "Parch         0\n",
       "Fare          0\n",
       "Embarked      2\n",
       "dtype: int64"
      ]
     },
     "execution_count": 13,
     "metadata": {},
     "output_type": "execute_result"
    }
   ],
   "source": [
    "df.isnull().sum()"
   ]
  },
  {
   "cell_type": "code",
   "execution_count": 14,
   "metadata": {},
   "outputs": [],
   "source": [
    "df.Age=df.Age.replace(np.NaN,df.Age.mean())"
   ]
  },
  {
   "cell_type": "code",
   "execution_count": 15,
   "metadata": {},
   "outputs": [
    {
     "data": {
      "text/plain": [
       "Survived    0\n",
       "Pclass      0\n",
       "Sex         0\n",
       "Age         0\n",
       "SibSp       0\n",
       "Parch       0\n",
       "Fare        0\n",
       "Embarked    2\n",
       "dtype: int64"
      ]
     },
     "execution_count": 15,
     "metadata": {},
     "output_type": "execute_result"
    }
   ],
   "source": [
    "df.isnull().sum()"
   ]
  },
  {
   "cell_type": "code",
   "execution_count": 16,
   "metadata": {},
   "outputs": [],
   "source": [
    "df.dropna(axis=0,inplace=True)"
   ]
  },
  {
   "cell_type": "code",
   "execution_count": 17,
   "metadata": {},
   "outputs": [
    {
     "data": {
      "text/plain": [
       "Survived    0\n",
       "Pclass      0\n",
       "Sex         0\n",
       "Age         0\n",
       "SibSp       0\n",
       "Parch       0\n",
       "Fare        0\n",
       "Embarked    0\n",
       "dtype: int64"
      ]
     },
     "execution_count": 17,
     "metadata": {},
     "output_type": "execute_result"
    }
   ],
   "source": [
    "df.isnull().sum()"
   ]
  },
  {
   "cell_type": "code",
   "execution_count": 18,
   "metadata": {},
   "outputs": [],
   "source": [
    "df.Embarked=label.fit_transform(df.Embarked)"
   ]
  },
  {
   "cell_type": "code",
   "execution_count": 19,
   "metadata": {},
   "outputs": [
    {
     "data": {
      "text/plain": [
       "array([2, 0, 1])"
      ]
     },
     "execution_count": 19,
     "metadata": {},
     "output_type": "execute_result"
    }
   ],
   "source": [
    "df.Embarked.unique()"
   ]
  },
  {
   "cell_type": "code",
   "execution_count": 20,
   "metadata": {},
   "outputs": [
    {
     "data": {
      "text/plain": [
       "1    577\n",
       "0    312\n",
       "Name: Sex, dtype: int64"
      ]
     },
     "execution_count": 20,
     "metadata": {},
     "output_type": "execute_result"
    }
   ],
   "source": [
    "df.Sex.value_counts()"
   ]
  },
  {
   "cell_type": "code",
   "execution_count": 21,
   "metadata": {},
   "outputs": [
    {
     "data": {
      "text/plain": [
       "Index(['Survived', 'Pclass', 'Sex', 'Age', 'SibSp', 'Parch', 'Fare',\n",
       "       'Embarked'],\n",
       "      dtype='object')"
      ]
     },
     "execution_count": 21,
     "metadata": {},
     "output_type": "execute_result"
    }
   ],
   "source": [
    "df.columns"
   ]
  },
  {
   "cell_type": "code",
   "execution_count": 22,
   "metadata": {},
   "outputs": [
    {
     "data": {
      "text/plain": [
       "<matplotlib.axes._subplots.AxesSubplot at 0x247b4a732c8>"
      ]
     },
     "execution_count": 22,
     "metadata": {},
     "output_type": "execute_result"
    },
    {
     "data": {
      "image/png": "[encoded data removed]",
      "text/plain": [
       "<Figure size 432x288 with 1 Axes>"
      ]
     },
     "metadata": {
      "needs_background": "light"
     },
     "output_type": "display_data"
    }
   ],
   "source": [
    "sns.boxplot(df.Pclass)"
   ]
  },
  {
   "cell_type": "code",
   "execution_count": 23,
   "metadata": {},
   "outputs": [
    {
     "data": {
      "text/plain": [
       "<matplotlib.axes._subplots.AxesSubplot at 0x247b5307088>"
      ]
     },
     "execution_count": 23,
     "metadata": {},
     "output_type": "execute_result"
    },
    {
     "data": {
      "image/png": "[encoded data removed]",
      "text/plain": [
       "<Figure size 432x288 with 1 Axes>"
      ]
     },
     "metadata": {
      "needs_background": "light"
     },
     "output_type": "display_data"
    }
   ],
   "source": [
    "sns.boxplot(df.SibSp)"
   ]
  },
  {
   "cell_type": "code",
   "execution_count": 24,
   "metadata": {},
   "outputs": [
    {
     "data": {
      "text/plain": [
       "<matplotlib.axes._subplots.AxesSubplot at 0x247b53b13c8>"
      ]
     },
     "execution_count": 24,
     "metadata": {},
     "output_type": "execute_result"
    },
    {
     "data": {
      "image/png": "[encoded data removed]",
      "text/plain": [
       "<Figure size 432x288 with 1 Axes>"
      ]
     },
     "metadata": {
      "needs_background": "light"
     },
     "output_type": "display_data"
    }
   ],
   "source": [
    "sns.boxplot(df.Parch)"
   ]
  },
  {
   "cell_type": "code",
   "execution_count": 25,
   "metadata": {},
   "outputs": [
    {
     "data": {
      "text/plain": [
       "<matplotlib.axes._subplots.AxesSubplot at 0x247b541dd08>"
      ]
     },
     "execution_count": 25,
     "metadata": {},
     "output_type": "execute_result"
    },
    {
     "data": {
      "image/png": "[encoded data removed]",
      "text/plain": [
       "<Figure size 432x288 with 1 Axes>"
      ]
     },
     "metadata": {
      "needs_background": "light"
     },
     "output_type": "display_data"
    }
   ],
   "source": [
    "sns.barplot(df.Pclass,df.Survived)"
   ]
  },
  {
   "cell_type": "code",
   "execution_count": 26,
   "metadata": {},
   "outputs": [
    {
     "data": {
      "text/plain": [
       "<matplotlib.axes._subplots.AxesSubplot at 0x247b5497448>"
      ]
     },
     "execution_count": 26,
     "metadata": {},
     "output_type": "execute_result"
    },
    {
     "data": {
      "image/png": "[encoded data removed]",
      "text/plain": [
       "<Figure size 432x288 with 1 Axes>"
      ]
     },
     "metadata": {
      "needs_background": "light"
     },
     "output_type": "display_data"
    }
   ],
   "source": [
    "sns.barplot(df.Parch,df.Survived)"
   ]
  },
  {
   "cell_type": "code",
   "execution_count": 27,
   "metadata": {},
   "outputs": [
    {
     "data": {
      "text/plain": [
       "<matplotlib.axes._subplots.AxesSubplot at 0x247b5521308>"
      ]
     },
     "execution_count": 27,
     "metadata": {},
     "output_type": "execute_result"
    },
    {
     "data": {
      "image/png": "[encoded data removed]",
      "text/plain": [
       "<Figure size 432x288 with 1 Axes>"
      ]
     },
     "metadata": {
      "needs_background": "light"
     },
     "output_type": "display_data"
    }
   ],
   "source": [
    "sns.barplot(df.Embarked,df.Survived,data=df,hue='Sex')"
   ]
  },
  {
   "cell_type": "code",
   "execution_count": 28,
   "metadata": {},
   "outputs": [
    {
     "data": {
      "text/plain": [
       "<seaborn.axisgrid.PairGrid at 0x247b558cb08>"
      ]
     },
     "execution_count": 28,
     "metadata": {},
     "output_type": "execute_result"
    },
    {
     "data": {
      "image/png": "[encoded data removed]",
      "text/plain": [
       "<Figure size 1440x1440 with 72 Axes>"
      ]
     },
     "metadata": {
      "needs_background": "light"
     },
     "output_type": "display_data"
    }
   ],
   "source": [
    "sns.pairplot(df)"
   ]
  },
  {
   "cell_type": "code",
   "execution_count": 29,
   "metadata": {},
   "outputs": [
    {
     "data": {
      "text/plain": [
       "(array([732., 104.,  31.,   2.,  11.,   6.,   0.,   0.,   0.,   3.]),\n",
       " array([  0.     ,  51.23292, 102.46584, 153.69876, 204.93168, 256.1646 ,\n",
       "        307.39752, 358.63044, 409.86336, 461.09628, 512.3292 ]),\n",
       " <a list of 10 Patch objects>)"
      ]
     },
     "execution_count": 29,
     "metadata": {},
     "output_type": "execute_result"
    },
    {
     "data": {
      "image/png": "[encoded data removed]",
      "text/plain": [
       "<Figure size 432x288 with 1 Axes>"
      ]
     },
     "metadata": {
      "needs_background": "light"
     },
     "output_type": "display_data"
    }
   ],
   "source": [
    "plt.hist(df.Fare)"
   ]
  },
  {
   "cell_type": "code",
   "execution_count": 30,
   "metadata": {},
   "outputs": [
    {
     "data": {
      "text/html": [
       "<div>\n",
       "<style scoped>\n",
       "    .dataframe tbody tr th:only-of-type {\n",
       "        vertical-align: middle;\n",
       "    }\n",
       "\n",
       "    .dataframe tbody tr th {\n",
       "        vertical-align: top;\n",
       "    }\n",
       "\n",
       "    .dataframe thead th {\n",
       "        text-align: right;\n",
       "    }\n",
       "</style>\n",
       "<table border=\"1\" class=\"dataframe\">\n",
       "  <thead>\n",
       "    <tr style=\"text-align: right;\">\n",
       "      <th></th>\n",
       "      <th>Survived</th>\n",
       "      <th>Pclass</th>\n",
       "      <th>Sex</th>\n",
       "      <th>Age</th>\n",
       "      <th>SibSp</th>\n",
       "      <th>Parch</th>\n",
       "      <th>Fare</th>\n",
       "      <th>Embarked</th>\n",
       "    </tr>\n",
       "  </thead>\n",
       "  <tbody>\n",
       "    <tr>\n",
       "      <th>count</th>\n",
       "      <td>889.000000</td>\n",
       "      <td>889.000000</td>\n",
       "      <td>889.000000</td>\n",
       "      <td>889.000000</td>\n",
       "      <td>889.000000</td>\n",
       "      <td>889.000000</td>\n",
       "      <td>889.000000</td>\n",
       "      <td>889.000000</td>\n",
       "    </tr>\n",
       "    <tr>\n",
       "      <th>mean</th>\n",
       "      <td>0.382452</td>\n",
       "      <td>2.311586</td>\n",
       "      <td>0.649044</td>\n",
       "      <td>29.653446</td>\n",
       "      <td>0.524184</td>\n",
       "      <td>0.382452</td>\n",
       "      <td>32.096681</td>\n",
       "      <td>1.535433</td>\n",
       "    </tr>\n",
       "    <tr>\n",
       "      <th>std</th>\n",
       "      <td>0.486260</td>\n",
       "      <td>0.834700</td>\n",
       "      <td>0.477538</td>\n",
       "      <td>12.968366</td>\n",
       "      <td>1.103705</td>\n",
       "      <td>0.806761</td>\n",
       "      <td>49.697504</td>\n",
       "      <td>0.792088</td>\n",
       "    </tr>\n",
       "    <tr>\n",
       "      <th>min</th>\n",
       "      <td>0.000000</td>\n",
       "      <td>1.000000</td>\n",
       "      <td>0.000000</td>\n",
       "      <td>0.420000</td>\n",
       "      <td>0.000000</td>\n",
       "      <td>0.000000</td>\n",
       "      <td>0.000000</td>\n",
       "      <td>0.000000</td>\n",
       "    </tr>\n",
       "    <tr>\n",
       "      <th>25%</th>\n",
       "      <td>0.000000</td>\n",
       "      <td>2.000000</td>\n",
       "      <td>0.000000</td>\n",
       "      <td>22.000000</td>\n",
       "      <td>0.000000</td>\n",
       "      <td>0.000000</td>\n",
       "      <td>7.895800</td>\n",
       "      <td>1.000000</td>\n",
       "    </tr>\n",
       "    <tr>\n",
       "      <th>50%</th>\n",
       "      <td>0.000000</td>\n",
       "      <td>3.000000</td>\n",
       "      <td>1.000000</td>\n",
       "      <td>29.699118</td>\n",
       "      <td>0.000000</td>\n",
       "      <td>0.000000</td>\n",
       "      <td>14.454200</td>\n",
       "      <td>2.000000</td>\n",
       "    </tr>\n",
       "    <tr>\n",
       "      <th>75%</th>\n",
       "      <td>1.000000</td>\n",
       "      <td>3.000000</td>\n",
       "      <td>1.000000</td>\n",
       "      <td>35.000000</td>\n",
       "      <td>1.000000</td>\n",
       "      <td>0.000000</td>\n",
       "      <td>31.000000</td>\n",
       "      <td>2.000000</td>\n",
       "    </tr>\n",
       "    <tr>\n",
       "      <th>max</th>\n",
       "      <td>1.000000</td>\n",
       "      <td>3.000000</td>\n",
       "      <td>1.000000</td>\n",
       "      <td>80.000000</td>\n",
       "      <td>8.000000</td>\n",
       "      <td>6.000000</td>\n",
       "      <td>512.329200</td>\n",
       "      <td>2.000000</td>\n",
       "    </tr>\n",
       "  </tbody>\n",
       "</table>\n",
       "</div>"
      ],
      "text/plain": [
       "         Survived      Pclass         Sex         Age       SibSp       Parch  \\\n",
       "count  889.000000  889.000000  889.000000  889.000000  889.000000  889.000000   \n",
       "mean     0.382452    2.311586    0.649044   29.653446    0.524184    0.382452   \n",
       "std      0.486260    0.834700    0.477538   12.968366    1.103705    0.806761   \n",
       "min      0.000000    1.000000    0.000000    0.420000    0.000000    0.000000   \n",
       "25%      0.000000    2.000000    0.000000   22.000000    0.000000    0.000000   \n",
       "50%      0.000000    3.000000    1.000000   29.699118    0.000000    0.000000   \n",
       "75%      1.000000    3.000000    1.000000   35.000000    1.000000    0.000000   \n",
       "max      1.000000    3.000000    1.000000   80.000000    8.000000    6.000000   \n",
       "\n",
       "             Fare    Embarked  \n",
       "count  889.000000  889.000000  \n",
       "mean    32.096681    1.535433  \n",
       "std     49.697504    0.792088  \n",
       "min      0.000000    0.000000  \n",
       "25%      7.895800    1.000000  \n",
       "50%     14.454200    2.000000  \n",
       "75%     31.000000    2.000000  \n",
       "max    512.329200    2.000000  "
      ]
     },
     "execution_count": 30,
     "metadata": {},
     "output_type": "execute_result"
    }
   ],
   "source": [
    "df.describe()"
   ]
  },
  {
   "cell_type": "code",
   "execution_count": 31,
   "metadata": {},
   "outputs": [
    {
     "data": {
      "text/html": [
       "<div>\n",
       "<style scoped>\n",
       "    .dataframe tbody tr th:only-of-type {\n",
       "        vertical-align: middle;\n",
       "    }\n",
       "\n",
       "    .dataframe tbody tr th {\n",
       "        vertical-align: top;\n",
       "    }\n",
       "\n",
       "    .dataframe thead th {\n",
       "        text-align: right;\n",
       "    }\n",
       "</style>\n",
       "<table border=\"1\" class=\"dataframe\">\n",
       "  <thead>\n",
       "    <tr style=\"text-align: right;\">\n",
       "      <th></th>\n",
       "      <th>Survived</th>\n",
       "      <th>Pclass</th>\n",
       "      <th>Sex</th>\n",
       "      <th>Age</th>\n",
       "      <th>SibSp</th>\n",
       "      <th>Parch</th>\n",
       "      <th>Fare</th>\n",
       "      <th>Embarked</th>\n",
       "    </tr>\n",
       "  </thead>\n",
       "  <tbody>\n",
       "    <tr>\n",
       "      <th>Survived</th>\n",
       "      <td>1.000000</td>\n",
       "      <td>-0.335549</td>\n",
       "      <td>-0.541585</td>\n",
       "      <td>-0.074673</td>\n",
       "      <td>-0.034040</td>\n",
       "      <td>0.083151</td>\n",
       "      <td>0.255290</td>\n",
       "      <td>-0.169718</td>\n",
       "    </tr>\n",
       "    <tr>\n",
       "      <th>Pclass</th>\n",
       "      <td>-0.335549</td>\n",
       "      <td>1.000000</td>\n",
       "      <td>0.127741</td>\n",
       "      <td>-0.327954</td>\n",
       "      <td>0.081656</td>\n",
       "      <td>0.016824</td>\n",
       "      <td>-0.548193</td>\n",
       "      <td>0.164681</td>\n",
       "    </tr>\n",
       "    <tr>\n",
       "      <th>Sex</th>\n",
       "      <td>-0.541585</td>\n",
       "      <td>0.127741</td>\n",
       "      <td>1.000000</td>\n",
       "      <td>0.089434</td>\n",
       "      <td>-0.116348</td>\n",
       "      <td>-0.247508</td>\n",
       "      <td>-0.179958</td>\n",
       "      <td>0.110320</td>\n",
       "    </tr>\n",
       "    <tr>\n",
       "      <th>Age</th>\n",
       "      <td>-0.074673</td>\n",
       "      <td>-0.327954</td>\n",
       "      <td>0.089434</td>\n",
       "      <td>1.000000</td>\n",
       "      <td>-0.231875</td>\n",
       "      <td>-0.178232</td>\n",
       "      <td>0.088604</td>\n",
       "      <td>-0.028927</td>\n",
       "    </tr>\n",
       "    <tr>\n",
       "      <th>SibSp</th>\n",
       "      <td>-0.034040</td>\n",
       "      <td>0.081656</td>\n",
       "      <td>-0.116348</td>\n",
       "      <td>-0.231875</td>\n",
       "      <td>1.000000</td>\n",
       "      <td>0.414542</td>\n",
       "      <td>0.160887</td>\n",
       "      <td>0.068900</td>\n",
       "    </tr>\n",
       "    <tr>\n",
       "      <th>Parch</th>\n",
       "      <td>0.083151</td>\n",
       "      <td>0.016824</td>\n",
       "      <td>-0.247508</td>\n",
       "      <td>-0.178232</td>\n",
       "      <td>0.414542</td>\n",
       "      <td>1.000000</td>\n",
       "      <td>0.217532</td>\n",
       "      <td>0.040449</td>\n",
       "    </tr>\n",
       "    <tr>\n",
       "      <th>Fare</th>\n",
       "      <td>0.255290</td>\n",
       "      <td>-0.548193</td>\n",
       "      <td>-0.179958</td>\n",
       "      <td>0.088604</td>\n",
       "      <td>0.160887</td>\n",
       "      <td>0.217532</td>\n",
       "      <td>1.000000</td>\n",
       "      <td>-0.226311</td>\n",
       "    </tr>\n",
       "    <tr>\n",
       "      <th>Embarked</th>\n",
       "      <td>-0.169718</td>\n",
       "      <td>0.164681</td>\n",
       "      <td>0.110320</td>\n",
       "      <td>-0.028927</td>\n",
       "      <td>0.068900</td>\n",
       "      <td>0.040449</td>\n",
       "      <td>-0.226311</td>\n",
       "      <td>1.000000</td>\n",
       "    </tr>\n",
       "  </tbody>\n",
       "</table>\n",
       "</div>"
      ],
      "text/plain": [
       "          Survived    Pclass       Sex       Age     SibSp     Parch  \\\n",
       "Survived  1.000000 -0.335549 -0.541585 -0.074673 -0.034040  0.083151   \n",
       "Pclass   -0.335549  1.000000  0.127741 -0.327954  0.081656  0.016824   \n",
       "Sex      -0.541585  0.127741  1.000000  0.089434 -0.116348 -0.247508   \n",
       "Age      -0.074673 -0.327954  0.089434  1.000000 -0.231875 -0.178232   \n",
       "SibSp    -0.034040  0.081656 -0.116348 -0.231875  1.000000  0.414542   \n",
       "Parch     0.083151  0.016824 -0.247508 -0.178232  0.414542  1.000000   \n",
       "Fare      0.255290 -0.548193 -0.179958  0.088604  0.160887  0.217532   \n",
       "Embarked -0.169718  0.164681  0.110320 -0.028927  0.068900  0.040449   \n",
       "\n",
       "              Fare  Embarked  \n",
       "Survived  0.255290 -0.169718  \n",
       "Pclass   -0.548193  0.164681  \n",
       "Sex      -0.179958  0.110320  \n",
       "Age       0.088604 -0.028927  \n",
       "SibSp     0.160887  0.068900  \n",
       "Parch     0.217532  0.040449  \n",
       "Fare      1.000000 -0.226311  \n",
       "Embarked -0.226311  1.000000  "
      ]
     },
     "execution_count": 31,
     "metadata": {},
     "output_type": "execute_result"
    }
   ],
   "source": [
    "df.corr()"
   ]
  },
  {
   "cell_type": "code",
   "execution_count": 32,
   "metadata": {},
   "outputs": [
    {
     "data": {
      "text/plain": [
       "<matplotlib.axes._subplots.AxesSubplot at 0x247b8ff6ec8>"
      ]
     },
     "execution_count": 32,
     "metadata": {},
     "output_type": "execute_result"
    },
    {
     "data": {
      "image/png": "[encoded data removed]",
      "text/plain": [
       "<Figure size 432x288 with 2 Axes>"
      ]
     },
     "metadata": {
      "needs_background": "light"
     },
     "output_type": "display_data"
    }
   ],
   "source": [
    "sns.heatmap(df.isnull())"
   ]
  },
  {
   "cell_type": "code",
   "execution_count": 33,
   "metadata": {},
   "outputs": [
    {
     "data": {
      "text/plain": [
       "<matplotlib.axes._subplots.AxesSubplot at 0x247b90cc208>"
      ]
     },
     "execution_count": 33,
     "metadata": {},
     "output_type": "execute_result"
    },
    {
     "data": {
      "image/png": "[encoded data removed]",
      "text/plain": [
       "<Figure size 432x288 with 2 Axes>"
      ]
     },
     "metadata": {
      "needs_background": "light"
     },
     "output_type": "display_data"
    }
   ],
   "source": [
    "sns.heatmap(df.corr(),annot=True)"
   ]
  },
  {
   "cell_type": "code",
   "execution_count": 34,
   "metadata": {},
   "outputs": [],
   "source": [
    "x=df.iloc[:,1:8]\n",
    "y=df.iloc[:,0]"
   ]
  },
  {
   "cell_type": "code",
   "execution_count": 35,
   "metadata": {},
   "outputs": [
    {
     "data": {
      "text/plain": [
       "(889, 7)"
      ]
     },
     "execution_count": 35,
     "metadata": {},
     "output_type": "execute_result"
    }
   ],
   "source": [
    "x.shape"
   ]
  },
  {
   "cell_type": "code",
   "execution_count": 36,
   "metadata": {},
   "outputs": [
    {
     "data": {
      "text/plain": [
       "(889,)"
      ]
     },
     "execution_count": 36,
     "metadata": {},
     "output_type": "execute_result"
    }
   ],
   "source": [
    "y.shape"
   ]
  },
  {
   "cell_type": "code",
   "execution_count": 37,
   "metadata": {},
   "outputs": [],
   "source": [
    "y=y.values.reshape(y.shape[0],1)"
   ]
  },
  {
   "cell_type": "code",
   "execution_count": 38,
   "metadata": {},
   "outputs": [
    {
     "data": {
      "text/plain": [
       "(889, 1)"
      ]
     },
     "execution_count": 38,
     "metadata": {},
     "output_type": "execute_result"
    }
   ],
   "source": [
    "y.shape"
   ]
  },
  {
   "cell_type": "code",
   "execution_count": 39,
   "metadata": {},
   "outputs": [],
   "source": [
    "from scipy.stats import zscore"
   ]
  },
  {
   "cell_type": "code",
   "execution_count": 40,
   "metadata": {},
   "outputs": [],
   "source": [
    "z=np.abs(zscore(x))"
   ]
  },
  {
   "cell_type": "code",
   "execution_count": 41,
   "metadata": {},
   "outputs": [
    {
     "name": "stdout",
     "output_type": "stream",
     "text": [
      "(array([ 13,  16,  25,  27,  50,  59,  67,  70,  85,  87,  95, 115, 117,\n",
      "       118, 158, 163, 166, 170, 179, 181, 200, 232, 257, 260, 265, 277,\n",
      "       298, 310, 323, 340, 359, 376, 379, 385, 436, 437, 437, 479, 492,\n",
      "       526, 540, 541, 556, 566, 609, 629, 637, 671, 677, 678, 682, 685,\n",
      "       688, 699, 715, 729, 735, 736, 741, 744, 773, 778, 786, 791, 812,\n",
      "       823, 844, 848, 849, 856, 861, 883], dtype=int64), array([4, 3, 4, 5, 3, 3, 3, 3, 4, 5, 2, 2, 5, 3, 3, 3, 4, 3, 3, 3, 3, 3,\n",
      "       5, 3, 3, 3, 5, 5, 3, 5, 4, 5, 5, 3, 4, 4, 5, 3, 2, 5, 3, 3, 5, 4,\n",
      "       4, 2, 4, 2, 4, 5, 3, 3, 5, 5, 5, 5, 4, 5, 5, 2, 4, 5, 3, 3, 3, 3,\n",
      "       3, 3, 2, 4, 3, 4], dtype=int64))\n"
     ]
    }
   ],
   "source": [
    "print(np.where(z>3))"
   ]
  },
  {
   "cell_type": "code",
   "execution_count": 42,
   "metadata": {},
   "outputs": [
    {
     "data": {
      "text/plain": [
       "(889, 7)"
      ]
     },
     "execution_count": 42,
     "metadata": {},
     "output_type": "execute_result"
    }
   ],
   "source": [
    "x.shape"
   ]
  },
  {
   "cell_type": "code",
   "execution_count": 43,
   "metadata": {},
   "outputs": [
    {
     "data": {
      "text/plain": [
       "(889, 1)"
      ]
     },
     "execution_count": 43,
     "metadata": {},
     "output_type": "execute_result"
    }
   ],
   "source": [
    "y.shape"
   ]
  },
  {
   "cell_type": "code",
   "execution_count": 44,
   "metadata": {},
   "outputs": [],
   "source": [
    "from sklearn.preprocessing import StandardScaler"
   ]
  },
  {
   "cell_type": "code",
   "execution_count": 45,
   "metadata": {},
   "outputs": [],
   "source": [
    "scale=StandardScaler()"
   ]
  },
  {
   "cell_type": "code",
   "execution_count": 46,
   "metadata": {},
   "outputs": [],
   "source": [
    "x=scale.fit_transform(x)"
   ]
  },
  {
   "cell_type": "markdown",
   "metadata": {},
   "source": [
    "# Logistic Regression"
   ]
  },
  {
   "cell_type": "code",
   "execution_count": 47,
   "metadata": {},
   "outputs": [],
   "source": [
    "from sklearn.model_selection import train_test_split\n",
    "from sklearn.linear_model import LogisticRegression\n",
    "from sklearn.metrics import accuracy_score,confusion_matrix,classification_report"
   ]
  },
  {
   "cell_type": "code",
   "execution_count": 48,
   "metadata": {},
   "outputs": [
    {
     "name": "stdout",
     "output_type": "stream",
     "text": [
      "accuracy score of at 42 is 0.7902621722846442\n",
      "accuracy score of at 43 is 0.8352059925093633\n",
      "accuracy score of at 44 is 0.7902621722846442\n",
      "accuracy score of at 45 is 0.7677902621722846\n",
      "accuracy score of at 46 is 0.7902621722846442\n",
      "accuracy score of at 47 is 0.7865168539325843\n",
      "accuracy score of at 48 is 0.7902621722846442\n",
      "accuracy score of at 49 is 0.7752808988764045\n",
      "accuracy score of at 50 is 0.8127340823970037\n",
      "accuracy score of at 51 is 0.8014981273408239\n",
      "accuracy score of at 52 is 0.7715355805243446\n",
      "accuracy score of at 53 is 0.7902621722846442\n",
      "accuracy score of at 54 is 0.7565543071161048\n",
      "accuracy score of at 55 is 0.8202247191011236\n",
      "accuracy score of at 56 is 0.797752808988764\n",
      "accuracy score of at 57 is 0.7940074906367042\n",
      "accuracy score of at 58 is 0.7715355805243446\n",
      "accuracy score of at 59 is 0.7790262172284644\n",
      "accuracy score of at 60 is 0.797752808988764\n",
      "accuracy score of at 61 is 0.7715355805243446\n",
      "accuracy score of at 62 is 0.8127340823970037\n",
      "accuracy score of at 63 is 0.7827715355805244\n",
      "accuracy score of at 64 is 0.7602996254681648\n",
      "accuracy score of at 65 is 0.8014981273408239\n",
      "accuracy score of at 66 is 0.8164794007490637\n",
      "accuracy score of at 67 is 0.8052434456928839\n",
      "accuracy score of at 68 is 0.8164794007490637\n",
      "accuracy score of at 69 is 0.8164794007490637\n",
      "accuracy score of at 70 is 0.7790262172284644\n",
      "accuracy score of at 71 is 0.8089887640449438\n",
      "accuracy score of at 72 is 0.797752808988764\n",
      "accuracy score of at 73 is 0.7940074906367042\n",
      "accuracy score of at 74 is 0.8277153558052435\n",
      "accuracy score of at 75 is 0.7790262172284644\n",
      "accuracy score of at 76 is 0.8164794007490637\n",
      "accuracy score of at 77 is 0.8314606741573034\n",
      "accuracy score of at 78 is 0.7940074906367042\n",
      "accuracy score of at 79 is 0.8014981273408239\n",
      "accuracy score of at 80 is 0.7827715355805244\n",
      "accuracy score of at 81 is 0.8202247191011236\n",
      "accuracy score of at 82 is 0.7790262172284644\n",
      "accuracy score of at 83 is 0.8277153558052435\n",
      "accuracy score of at 84 is 0.8314606741573034\n",
      "accuracy score of at 85 is 0.7827715355805244\n",
      "accuracy score of at 86 is 0.7790262172284644\n",
      "accuracy score of at 87 is 0.7940074906367042\n",
      "accuracy score of at 88 is 0.7902621722846442\n",
      "accuracy score of at 89 is 0.7715355805243446\n",
      "accuracy score of at 90 is 0.8052434456928839\n",
      "accuracy score of at 91 is 0.8052434456928839\n",
      "accuracy score of at 92 is 0.7752808988764045\n",
      "accuracy score of at 93 is 0.7677902621722846\n",
      "accuracy score of at 94 is 0.8239700374531835\n",
      "accuracy score of at 95 is 0.8352059925093633\n",
      "accuracy score of at 96 is 0.8202247191011236\n",
      "accuracy score of at 97 is 0.7752808988764045\n",
      "accuracy score of at 98 is 0.7490636704119851\n",
      "accuracy score of at 99 is 0.7453183520599251\n",
      "accuracy score of at 100 is 0.7715355805243446\n",
      "\n",
      "\n",
      "0.8352059925093633\n",
      "43\n"
     ]
    }
   ],
   "source": [
    "max_score=0\n",
    "for r in range(42,101):\n",
    "    x_train,x_test,y_train,y_test=train_test_split(x,y,test_size=.30,random_state=r)\n",
    "    lg=LogisticRegression()\n",
    "    lg.fit(x_train,y_train)\n",
    "    pred=lg.predict(x_test)\n",
    "    acc=accuracy_score(y_test,pred)\n",
    "    print('accuracy score of at',r,'is',acc)\n",
    "    if acc>max_score:\n",
    "        max_score=acc\n",
    "        random_state=r\n",
    "        \n",
    "print('\\n')\n",
    "print(max_score)\n",
    "print(random_state)"
   ]
  },
  {
   "cell_type": "code",
   "execution_count": 49,
   "metadata": {},
   "outputs": [],
   "source": [
    "x_train,x_test,y_train,y_test=train_test_split(x,y,test_size=.30,random_state=43)\n",
    "lg=LogisticRegression()\n",
    "lg.fit(x_train,y_train)\n",
    "pred=lg.predict(x_test)\n"
   ]
  },
  {
   "cell_type": "code",
   "execution_count": 50,
   "metadata": {},
   "outputs": [
    {
     "data": {
      "text/plain": [
       "0.8352059925093633"
      ]
     },
     "execution_count": 50,
     "metadata": {},
     "output_type": "execute_result"
    }
   ],
   "source": [
    "accuracy_score(y_test,pred)"
   ]
  },
  {
   "cell_type": "code",
   "execution_count": 51,
   "metadata": {},
   "outputs": [
    {
     "data": {
      "text/plain": [
       "array([[147,  17],\n",
       "       [ 27,  76]], dtype=int64)"
      ]
     },
     "execution_count": 51,
     "metadata": {},
     "output_type": "execute_result"
    }
   ],
   "source": [
    "confusion_matrix(y_test,pred)"
   ]
  },
  {
   "cell_type": "code",
   "execution_count": 52,
   "metadata": {},
   "outputs": [
    {
     "data": {
      "text/plain": [
       "'              precision    recall  f1-score   support\\n\\n           0       0.84      0.90      0.87       164\\n           1       0.82      0.74      0.78       103\\n\\n    accuracy                           0.84       267\\n   macro avg       0.83      0.82      0.82       267\\nweighted avg       0.83      0.84      0.83       267\\n'"
      ]
     },
     "execution_count": 52,
     "metadata": {},
     "output_type": "execute_result"
    }
   ],
   "source": [
    "classification_report(y_test,pred)"
   ]
  },
  {
   "cell_type": "markdown",
   "metadata": {},
   "source": [
    "# Naive Bayes"
   ]
  },
  {
   "cell_type": "code",
   "execution_count": 53,
   "metadata": {},
   "outputs": [],
   "source": [
    "from sklearn.naive_bayes import GaussianNB"
   ]
  },
  {
   "cell_type": "code",
   "execution_count": 54,
   "metadata": {},
   "outputs": [
    {
     "name": "stdout",
     "output_type": "stream",
     "text": [
      "accuracy score of at 42 is 0.7827715355805244\n",
      "accuracy score of at 43 is 0.8352059925093633\n",
      "accuracy score of at 44 is 0.7865168539325843\n",
      "accuracy score of at 45 is 0.7902621722846442\n",
      "accuracy score of at 46 is 0.7602996254681648\n",
      "accuracy score of at 47 is 0.7752808988764045\n",
      "accuracy score of at 48 is 0.797752808988764\n",
      "accuracy score of at 49 is 0.7827715355805244\n",
      "accuracy score of at 50 is 0.8202247191011236\n",
      "accuracy score of at 51 is 0.8127340823970037\n",
      "accuracy score of at 52 is 0.7715355805243446\n",
      "accuracy score of at 53 is 0.7940074906367042\n",
      "accuracy score of at 54 is 0.7565543071161048\n",
      "accuracy score of at 55 is 0.7902621722846442\n",
      "accuracy score of at 56 is 0.7902621722846442\n",
      "accuracy score of at 57 is 0.7752808988764045\n",
      "accuracy score of at 58 is 0.7565543071161048\n",
      "accuracy score of at 59 is 0.7752808988764045\n",
      "accuracy score of at 60 is 0.7827715355805244\n",
      "accuracy score of at 61 is 0.7602996254681648\n",
      "accuracy score of at 62 is 0.8164794007490637\n",
      "accuracy score of at 63 is 0.7790262172284644\n",
      "accuracy score of at 64 is 0.7640449438202247\n",
      "accuracy score of at 65 is 0.7827715355805244\n",
      "accuracy score of at 66 is 0.8127340823970037\n",
      "accuracy score of at 67 is 0.8014981273408239\n",
      "accuracy score of at 68 is 0.7827715355805244\n",
      "accuracy score of at 69 is 0.8014981273408239\n",
      "accuracy score of at 70 is 0.7940074906367042\n",
      "accuracy score of at 71 is 0.8127340823970037\n",
      "accuracy score of at 72 is 0.7902621722846442\n",
      "accuracy score of at 73 is 0.7752808988764045\n",
      "accuracy score of at 74 is 0.8089887640449438\n",
      "accuracy score of at 75 is 0.7752808988764045\n",
      "accuracy score of at 76 is 0.8202247191011236\n",
      "accuracy score of at 77 is 0.8164794007490637\n",
      "accuracy score of at 78 is 0.7677902621722846\n",
      "accuracy score of at 79 is 0.7790262172284644\n",
      "accuracy score of at 80 is 0.7752808988764045\n",
      "accuracy score of at 81 is 0.8239700374531835\n",
      "accuracy score of at 82 is 0.7940074906367042\n",
      "accuracy score of at 83 is 0.8239700374531835\n",
      "accuracy score of at 84 is 0.797752808988764\n",
      "accuracy score of at 85 is 0.7865168539325843\n",
      "accuracy score of at 86 is 0.7378277153558053\n",
      "accuracy score of at 87 is 0.7790262172284644\n",
      "accuracy score of at 88 is 0.7715355805243446\n",
      "accuracy score of at 89 is 0.7790262172284644\n",
      "accuracy score of at 90 is 0.7790262172284644\n",
      "accuracy score of at 91 is 0.7902621722846442\n",
      "accuracy score of at 92 is 0.7565543071161048\n",
      "accuracy score of at 93 is 0.7677902621722846\n",
      "accuracy score of at 94 is 0.8314606741573034\n",
      "accuracy score of at 95 is 0.8202247191011236\n",
      "accuracy score of at 96 is 0.8127340823970037\n",
      "accuracy score of at 97 is 0.7752808988764045\n",
      "accuracy score of at 98 is 0.7752808988764045\n",
      "accuracy score of at 99 is 0.7490636704119851\n",
      "accuracy score of at 100 is 0.797752808988764\n",
      "\n",
      "\n",
      "0.8352059925093633\n",
      "43\n"
     ]
    }
   ],
   "source": [
    "max_score=0\n",
    "for r in range(42,101):\n",
    "    x_train,x_test,y_train,y_test=train_test_split(x,y,test_size=.30,random_state=r)\n",
    "    gb=GaussianNB()\n",
    "    gb.fit(x_train,y_train)\n",
    "    pred=gb.predict(x_test)\n",
    "    acc=accuracy_score(y_test,pred)\n",
    "    print('accuracy score of at',r,'is',acc)\n",
    "    if acc>max_score:\n",
    "        max_score=acc\n",
    "        random_state=r\n",
    "        \n",
    "print('\\n')\n",
    "print(max_score)\n",
    "print(random_state)"
   ]
  },
  {
   "cell_type": "code",
   "execution_count": 55,
   "metadata": {},
   "outputs": [],
   "source": [
    "x_train,x_test,y_train,y_test=train_test_split(x,y,test_size=.30,random_state=43)\n",
    "gb=GaussianNB()\n",
    "gb.fit(x_train,y_train)\n",
    "pred=gb.predict(x_test)\n"
   ]
  },
  {
   "cell_type": "code",
   "execution_count": 56,
   "metadata": {},
   "outputs": [
    {
     "data": {
      "text/plain": [
       "0.8352059925093633"
      ]
     },
     "execution_count": 56,
     "metadata": {},
     "output_type": "execute_result"
    }
   ],
   "source": [
    "accuracy_score(y_test,pred)"
   ]
  },
  {
   "cell_type": "code",
   "execution_count": 57,
   "metadata": {},
   "outputs": [
    {
     "data": {
      "text/plain": [
       "array([[147,  17],\n",
       "       [ 27,  76]], dtype=int64)"
      ]
     },
     "execution_count": 57,
     "metadata": {},
     "output_type": "execute_result"
    }
   ],
   "source": [
    "confusion_matrix(y_test,pred)"
   ]
  },
  {
   "cell_type": "code",
   "execution_count": 58,
   "metadata": {},
   "outputs": [
    {
     "data": {
      "text/plain": [
       "'              precision    recall  f1-score   support\\n\\n           0       0.84      0.90      0.87       164\\n           1       0.82      0.74      0.78       103\\n\\n    accuracy                           0.84       267\\n   macro avg       0.83      0.82      0.82       267\\nweighted avg       0.83      0.84      0.83       267\\n'"
      ]
     },
     "execution_count": 58,
     "metadata": {},
     "output_type": "execute_result"
    }
   ],
   "source": [
    "classification_report(y_test,pred)"
   ]
  },
  {
   "cell_type": "markdown",
   "metadata": {},
   "source": [
    "# SVC"
   ]
  },
  {
   "cell_type": "code",
   "execution_count": 59,
   "metadata": {},
   "outputs": [],
   "source": [
    "from sklearn.svm import SVC"
   ]
  },
  {
   "cell_type": "code",
   "execution_count": 60,
   "metadata": {},
   "outputs": [
    {
     "name": "stdout",
     "output_type": "stream",
     "text": [
      "accuracy score of at 42 is 0.8202247191011236\n",
      "accuracy score of at 43 is 0.8539325842696629\n",
      "accuracy score of at 44 is 0.8277153558052435\n",
      "accuracy score of at 45 is 0.7940074906367042\n",
      "accuracy score of at 46 is 0.7902621722846442\n",
      "accuracy score of at 47 is 0.8202247191011236\n",
      "accuracy score of at 48 is 0.8314606741573034\n",
      "accuracy score of at 49 is 0.8089887640449438\n",
      "accuracy score of at 50 is 0.8239700374531835\n",
      "accuracy score of at 51 is 0.8277153558052435\n",
      "accuracy score of at 52 is 0.8052434456928839\n",
      "accuracy score of at 53 is 0.8127340823970037\n",
      "accuracy score of at 54 is 0.797752808988764\n",
      "accuracy score of at 55 is 0.8314606741573034\n",
      "accuracy score of at 56 is 0.8127340823970037\n",
      "accuracy score of at 57 is 0.8239700374531835\n",
      "accuracy score of at 58 is 0.797752808988764\n",
      "accuracy score of at 59 is 0.8089887640449438\n",
      "accuracy score of at 60 is 0.8014981273408239\n",
      "accuracy score of at 61 is 0.7940074906367042\n",
      "accuracy score of at 62 is 0.850187265917603\n",
      "accuracy score of at 63 is 0.797752808988764\n",
      "accuracy score of at 64 is 0.7865168539325843\n",
      "accuracy score of at 65 is 0.8352059925093633\n",
      "accuracy score of at 66 is 0.850187265917603\n",
      "accuracy score of at 67 is 0.8426966292134831\n",
      "accuracy score of at 68 is 0.8239700374531835\n",
      "accuracy score of at 69 is 0.8389513108614233\n",
      "accuracy score of at 70 is 0.7940074906367042\n",
      "accuracy score of at 71 is 0.8539325842696629\n",
      "accuracy score of at 72 is 0.797752808988764\n",
      "accuracy score of at 73 is 0.7902621722846442\n",
      "accuracy score of at 74 is 0.8314606741573034\n",
      "accuracy score of at 75 is 0.8239700374531835\n",
      "accuracy score of at 76 is 0.850187265917603\n",
      "accuracy score of at 77 is 0.8314606741573034\n",
      "accuracy score of at 78 is 0.8239700374531835\n",
      "accuracy score of at 79 is 0.8164794007490637\n",
      "accuracy score of at 80 is 0.8052434456928839\n",
      "accuracy score of at 81 is 0.8614232209737828\n",
      "accuracy score of at 82 is 0.797752808988764\n",
      "accuracy score of at 83 is 0.8539325842696629\n",
      "accuracy score of at 84 is 0.8314606741573034\n",
      "accuracy score of at 85 is 0.8202247191011236\n",
      "accuracy score of at 86 is 0.7865168539325843\n",
      "accuracy score of at 87 is 0.8239700374531835\n",
      "accuracy score of at 88 is 0.8314606741573034\n",
      "accuracy score of at 89 is 0.797752808988764\n",
      "accuracy score of at 90 is 0.8089887640449438\n",
      "accuracy score of at 91 is 0.8277153558052435\n",
      "accuracy score of at 92 is 0.8089887640449438\n",
      "accuracy score of at 93 is 0.8014981273408239\n",
      "accuracy score of at 94 is 0.8314606741573034\n",
      "accuracy score of at 95 is 0.8614232209737828\n",
      "accuracy score of at 96 is 0.8614232209737828\n",
      "accuracy score of at 97 is 0.8164794007490637\n",
      "accuracy score of at 98 is 0.8164794007490637\n",
      "accuracy score of at 99 is 0.7752808988764045\n",
      "accuracy score of at 100 is 0.8239700374531835\n",
      "\n",
      "\n",
      "0.8614232209737828\n",
      "81\n"
     ]
    }
   ],
   "source": [
    "max_score=0\n",
    "for r in range(42,101):\n",
    "    x_train,x_test,y_train,y_test=train_test_split(x,y,test_size=.30,random_state=r)\n",
    "    svc=SVC()\n",
    "    svc.fit(x_train,y_train)\n",
    "    pred=svc.predict(x_test)\n",
    "    acc=accuracy_score(y_test,pred)\n",
    "    print('accuracy score of at',r,'is',acc)\n",
    "    if acc>max_score:\n",
    "        max_score=acc\n",
    "        random_state=r\n",
    "        \n",
    "print('\\n')\n",
    "print(max_score)\n",
    "print(random_state)"
   ]
  },
  {
   "cell_type": "code",
   "execution_count": 61,
   "metadata": {},
   "outputs": [],
   "source": [
    "x_train,x_test,y_train,y_test=train_test_split(x,y,test_size=.30,random_state=81)\n",
    "svc=SVC()\n",
    "svc.fit(x_train,y_train)\n",
    "pred=svc.predict(x_test)\n"
   ]
  },
  {
   "cell_type": "code",
   "execution_count": 62,
   "metadata": {},
   "outputs": [
    {
     "data": {
      "text/plain": [
       "0.8614232209737828"
      ]
     },
     "execution_count": 62,
     "metadata": {},
     "output_type": "execute_result"
    }
   ],
   "source": [
    "accuracy_score(y_test,pred)"
   ]
  },
  {
   "cell_type": "code",
   "execution_count": 63,
   "metadata": {},
   "outputs": [
    {
     "data": {
      "text/plain": [
       "array([[158,  10],\n",
       "       [ 27,  72]], dtype=int64)"
      ]
     },
     "execution_count": 63,
     "metadata": {},
     "output_type": "execute_result"
    }
   ],
   "source": [
    "confusion_matrix(y_test,pred)"
   ]
  },
  {
   "cell_type": "markdown",
   "metadata": {},
   "source": [
    "# Decision Tree Classifier"
   ]
  },
  {
   "cell_type": "code",
   "execution_count": 64,
   "metadata": {},
   "outputs": [],
   "source": [
    "from sklearn.tree import DecisionTreeClassifier"
   ]
  },
  {
   "cell_type": "code",
   "execution_count": 65,
   "metadata": {},
   "outputs": [
    {
     "name": "stdout",
     "output_type": "stream",
     "text": [
      "accuracy score of at 42 is 0.7602996254681648\n",
      "accuracy score of at 43 is 0.7715355805243446\n",
      "accuracy score of at 44 is 0.7865168539325843\n",
      "accuracy score of at 45 is 0.7528089887640449\n",
      "accuracy score of at 46 is 0.7752808988764045\n",
      "accuracy score of at 47 is 0.7715355805243446\n",
      "accuracy score of at 48 is 0.7790262172284644\n",
      "accuracy score of at 49 is 0.7565543071161048\n",
      "accuracy score of at 50 is 0.7752808988764045\n",
      "accuracy score of at 51 is 0.8127340823970037\n",
      "accuracy score of at 52 is 0.7677902621722846\n",
      "accuracy score of at 53 is 0.7827715355805244\n",
      "accuracy score of at 54 is 0.7902621722846442\n",
      "accuracy score of at 55 is 0.7790262172284644\n",
      "accuracy score of at 56 is 0.8052434456928839\n",
      "accuracy score of at 57 is 0.7715355805243446\n",
      "accuracy score of at 58 is 0.7752808988764045\n",
      "accuracy score of at 59 is 0.7752808988764045\n",
      "accuracy score of at 60 is 0.7902621722846442\n",
      "accuracy score of at 61 is 0.7677902621722846\n",
      "accuracy score of at 62 is 0.7790262172284644\n",
      "accuracy score of at 63 is 0.7715355805243446\n",
      "accuracy score of at 64 is 0.7790262172284644\n",
      "accuracy score of at 65 is 0.797752808988764\n",
      "accuracy score of at 66 is 0.7902621722846442\n",
      "accuracy score of at 67 is 0.7565543071161048\n",
      "accuracy score of at 68 is 0.797752808988764\n",
      "accuracy score of at 69 is 0.7490636704119851\n",
      "accuracy score of at 70 is 0.7490636704119851\n",
      "accuracy score of at 71 is 0.7790262172284644\n",
      "accuracy score of at 72 is 0.8014981273408239\n",
      "accuracy score of at 73 is 0.797752808988764\n",
      "accuracy score of at 74 is 0.8426966292134831\n",
      "accuracy score of at 75 is 0.8052434456928839\n",
      "accuracy score of at 76 is 0.7940074906367042\n",
      "accuracy score of at 77 is 0.8052434456928839\n",
      "accuracy score of at 78 is 0.7902621722846442\n",
      "accuracy score of at 79 is 0.7640449438202247\n",
      "accuracy score of at 80 is 0.7565543071161048\n",
      "accuracy score of at 81 is 0.8089887640449438\n",
      "accuracy score of at 82 is 0.7228464419475655\n",
      "accuracy score of at 83 is 0.7453183520599251\n",
      "accuracy score of at 84 is 0.7790262172284644\n",
      "accuracy score of at 85 is 0.7677902621722846\n",
      "accuracy score of at 86 is 0.7265917602996255\n",
      "accuracy score of at 87 is 0.7565543071161048\n",
      "accuracy score of at 88 is 0.8202247191011236\n",
      "accuracy score of at 89 is 0.7565543071161048\n",
      "accuracy score of at 90 is 0.7865168539325843\n",
      "accuracy score of at 91 is 0.7453183520599251\n",
      "accuracy score of at 92 is 0.7640449438202247\n",
      "accuracy score of at 93 is 0.7865168539325843\n",
      "accuracy score of at 94 is 0.7565543071161048\n",
      "accuracy score of at 95 is 0.8127340823970037\n",
      "accuracy score of at 96 is 0.7640449438202247\n",
      "accuracy score of at 97 is 0.7715355805243446\n",
      "accuracy score of at 98 is 0.7415730337078652\n",
      "accuracy score of at 99 is 0.7378277153558053\n",
      "accuracy score of at 100 is 0.7715355805243446\n",
      "\n",
      "\n",
      "0.8426966292134831\n",
      "74\n"
     ]
    }
   ],
   "source": [
    "max_score=0\n",
    "for r in range(42,101):\n",
    "    x_train,x_test,y_train,y_test=train_test_split(x,y,test_size=.30,random_state=r)\n",
    "    dtc=DecisionTreeClassifier()\n",
    "    dtc.fit(x_train,y_train)\n",
    "    pred=dtc.predict(x_test)\n",
    "    acc=accuracy_score(y_test,pred)\n",
    "    print('accuracy score of at',r,'is',acc)\n",
    "    if acc>max_score:\n",
    "        max_score=acc\n",
    "        random_state=r\n",
    "        \n",
    "print('\\n')\n",
    "print(max_score)\n",
    "print(random_state)"
   ]
  },
  {
   "cell_type": "code",
   "execution_count": 66,
   "metadata": {},
   "outputs": [],
   "source": [
    "x_train,x_test,y_train,y_test=train_test_split(x,y,test_size=.30,random_state=74)\n",
    "dtc=DecisionTreeClassifier()\n",
    "dtc.fit(x_train,y_train)\n",
    "pred=svc.predict(x_test)\n"
   ]
  },
  {
   "cell_type": "code",
   "execution_count": 67,
   "metadata": {},
   "outputs": [
    {
     "data": {
      "text/plain": [
       "0.8689138576779026"
      ]
     },
     "execution_count": 67,
     "metadata": {},
     "output_type": "execute_result"
    }
   ],
   "source": [
    "accuracy_score(y_test,pred)"
   ]
  },
  {
   "cell_type": "code",
   "execution_count": 68,
   "metadata": {},
   "outputs": [
    {
     "data": {
      "text/plain": [
       "array([[156,  10],\n",
       "       [ 25,  76]], dtype=int64)"
      ]
     },
     "execution_count": 68,
     "metadata": {},
     "output_type": "execute_result"
    }
   ],
   "source": [
    "confusion_matrix(y_test,pred)"
   ]
  },
  {
   "cell_type": "markdown",
   "metadata": {},
   "source": [
    "# KNeighbors Classifier"
   ]
  },
  {
   "cell_type": "code",
   "execution_count": 69,
   "metadata": {},
   "outputs": [],
   "source": [
    "from sklearn.neighbors import KNeighborsClassifier"
   ]
  },
  {
   "cell_type": "code",
   "execution_count": 70,
   "metadata": {},
   "outputs": [
    {
     "name": "stdout",
     "output_type": "stream",
     "text": [
      "accuracy score of at 42 is 0.7902621722846442\n",
      "accuracy score of at 43 is 0.8352059925093633\n",
      "accuracy score of at 44 is 0.7827715355805244\n",
      "accuracy score of at 45 is 0.7902621722846442\n",
      "accuracy score of at 46 is 0.7827715355805244\n",
      "accuracy score of at 47 is 0.7752808988764045\n",
      "accuracy score of at 48 is 0.8014981273408239\n",
      "accuracy score of at 49 is 0.7865168539325843\n",
      "accuracy score of at 50 is 0.797752808988764\n",
      "accuracy score of at 51 is 0.8052434456928839\n",
      "accuracy score of at 52 is 0.7865168539325843\n",
      "accuracy score of at 53 is 0.7827715355805244\n",
      "accuracy score of at 54 is 0.7790262172284644\n",
      "accuracy score of at 55 is 0.8202247191011236\n",
      "accuracy score of at 56 is 0.8202247191011236\n",
      "accuracy score of at 57 is 0.7865168539325843\n",
      "accuracy score of at 58 is 0.8014981273408239\n",
      "accuracy score of at 59 is 0.8052434456928839\n",
      "accuracy score of at 60 is 0.797752808988764\n",
      "accuracy score of at 61 is 0.7640449438202247\n",
      "accuracy score of at 62 is 0.846441947565543\n",
      "accuracy score of at 63 is 0.8164794007490637\n",
      "accuracy score of at 64 is 0.8014981273408239\n",
      "accuracy score of at 65 is 0.8089887640449438\n",
      "accuracy score of at 66 is 0.8239700374531835\n",
      "accuracy score of at 67 is 0.7940074906367042\n",
      "accuracy score of at 68 is 0.8127340823970037\n",
      "accuracy score of at 69 is 0.8239700374531835\n",
      "accuracy score of at 70 is 0.7752808988764045\n",
      "accuracy score of at 71 is 0.8277153558052435\n",
      "accuracy score of at 72 is 0.7827715355805244\n",
      "accuracy score of at 73 is 0.8052434456928839\n",
      "accuracy score of at 74 is 0.8389513108614233\n",
      "accuracy score of at 75 is 0.7865168539325843\n",
      "accuracy score of at 76 is 0.8426966292134831\n",
      "accuracy score of at 77 is 0.8127340823970037\n",
      "accuracy score of at 78 is 0.7865168539325843\n",
      "accuracy score of at 79 is 0.8127340823970037\n",
      "accuracy score of at 80 is 0.7865168539325843\n",
      "accuracy score of at 81 is 0.8426966292134831\n",
      "accuracy score of at 82 is 0.7940074906367042\n",
      "accuracy score of at 83 is 0.8426966292134831\n",
      "accuracy score of at 84 is 0.8014981273408239\n",
      "accuracy score of at 85 is 0.7940074906367042\n",
      "accuracy score of at 86 is 0.7827715355805244\n",
      "accuracy score of at 87 is 0.7752808988764045\n",
      "accuracy score of at 88 is 0.8239700374531835\n",
      "accuracy score of at 89 is 0.7677902621722846\n",
      "accuracy score of at 90 is 0.797752808988764\n",
      "accuracy score of at 91 is 0.7827715355805244\n",
      "accuracy score of at 92 is 0.8014981273408239\n",
      "accuracy score of at 93 is 0.7865168539325843\n",
      "accuracy score of at 94 is 0.850187265917603\n",
      "accuracy score of at 95 is 0.846441947565543\n",
      "accuracy score of at 96 is 0.8127340823970037\n",
      "accuracy score of at 97 is 0.7865168539325843\n",
      "accuracy score of at 98 is 0.8014981273408239\n",
      "accuracy score of at 99 is 0.7415730337078652\n",
      "accuracy score of at 100 is 0.8164794007490637\n",
      "\n",
      "\n",
      "0.850187265917603\n",
      "94\n"
     ]
    }
   ],
   "source": [
    "max_score=0\n",
    "for r in range(42,101):\n",
    "    x_train,x_test,y_train,y_test=train_test_split(x,y,test_size=.30,random_state=r)\n",
    "    kn=KNeighborsClassifier()\n",
    "    kn.fit(x_train,y_train)\n",
    "    pred=kn.predict(x_test)\n",
    "    acc=accuracy_score(y_test,pred)\n",
    "    print('accuracy score of at',r,'is',acc)\n",
    "    if acc>max_score:\n",
    "        max_score=acc\n",
    "        random_state=r\n",
    "        \n",
    "print('\\n')\n",
    "print(max_score)\n",
    "print(random_state)"
   ]
  },
  {
   "cell_type": "code",
   "execution_count": 71,
   "metadata": {},
   "outputs": [],
   "source": [
    "x_train,x_test,y_train,y_test=train_test_split(x,y,test_size=.30,random_state=57)\n",
    "kn=KNeighborsClassifier()\n",
    "kn.fit(x_train,y_train)\n",
    "pred=kn.predict(x_test)\n"
   ]
  },
  {
   "cell_type": "code",
   "execution_count": 72,
   "metadata": {},
   "outputs": [
    {
     "data": {
      "text/plain": [
       "0.7865168539325843"
      ]
     },
     "execution_count": 72,
     "metadata": {},
     "output_type": "execute_result"
    }
   ],
   "source": [
    "accuracy_score(y_test,pred)"
   ]
  },
  {
   "cell_type": "code",
   "execution_count": 73,
   "metadata": {},
   "outputs": [
    {
     "data": {
      "text/plain": [
       "array([[135,  23],\n",
       "       [ 34,  75]], dtype=int64)"
      ]
     },
     "execution_count": 73,
     "metadata": {},
     "output_type": "execute_result"
    }
   ],
   "source": [
    "confusion_matrix(y_test,pred)"
   ]
  },
  {
   "cell_type": "markdown",
   "metadata": {},
   "source": [
    "# CrossValidation"
   ]
  },
  {
   "cell_type": "code",
   "execution_count": 74,
   "metadata": {},
   "outputs": [],
   "source": [
    "from sklearn.model_selection import cross_val_score"
   ]
  },
  {
   "cell_type": "code",
   "execution_count": 75,
   "metadata": {},
   "outputs": [
    {
     "data": {
      "text/plain": [
       "0.7851901225163461"
      ]
     },
     "execution_count": 75,
     "metadata": {},
     "output_type": "execute_result"
    }
   ],
   "source": [
    "score=cross_val_score(lg,x,y,cv=5).mean()\n",
    "score"
   ]
  },
  {
   "cell_type": "code",
   "execution_count": 76,
   "metadata": {},
   "outputs": [
    {
     "data": {
      "text/plain": [
       "0.7907890560528154"
      ]
     },
     "execution_count": 76,
     "metadata": {},
     "output_type": "execute_result"
    }
   ],
   "source": [
    "score=cross_val_score(gb,x,y,cv=5).mean()\n",
    "score"
   ]
  },
  {
   "cell_type": "code",
   "execution_count": 77,
   "metadata": {},
   "outputs": [
    {
     "data": {
      "text/plain": [
       "0.8020504030978227"
      ]
     },
     "execution_count": 77,
     "metadata": {},
     "output_type": "execute_result"
    }
   ],
   "source": [
    "score=cross_val_score(kn,x,y,cv=5).mean()\n",
    "score"
   ]
  },
  {
   "cell_type": "code",
   "execution_count": 78,
   "metadata": {},
   "outputs": [
    {
     "data": {
      "text/plain": [
       "0.8268139402018664"
      ]
     },
     "execution_count": 78,
     "metadata": {},
     "output_type": "execute_result"
    }
   ],
   "source": [
    "score=cross_val_score(svc,x,y,cv=5).mean()\n",
    "score"
   ]
  },
  {
   "cell_type": "code",
   "execution_count": 79,
   "metadata": {},
   "outputs": [
    {
     "data": {
      "text/plain": [
       "0.7660889989208404"
      ]
     },
     "execution_count": 79,
     "metadata": {},
     "output_type": "execute_result"
    }
   ],
   "source": [
    "score=cross_val_score(dtc,x,y,cv=5).mean()\n",
    "score"
   ]
  },
  {
   "cell_type": "markdown",
   "metadata": {},
   "source": [
    "here we can see that svc model score is better than other classifier so we select the svc model"
   ]
  },
  {
   "cell_type": "code",
   "execution_count": 80,
   "metadata": {},
   "outputs": [],
   "source": [
    "from sklearn.externals import joblib"
   ]
  },
  {
   "cell_type": "code",
   "execution_count": 81,
   "metadata": {},
   "outputs": [
    {
     "data": {
      "text/plain": [
       "['svc_model_titanic_dataset.obj']"
      ]
     },
     "execution_count": 81,
     "metadata": {},
     "output_type": "execute_result"
    }
   ],
   "source": [
    "joblib.dump(svc,'svc_model_titanic_dataset.obj')"
   ]
  },
  {
   "cell_type": "code",
   "execution_count": 82,
   "metadata": {},
   "outputs": [
    {
     "data": {
      "text/plain": [
       "SVC(C=1.0, break_ties=False, cache_size=200, class_weight=None, coef0=0.0,\n",
       "    decision_function_shape='ovr', degree=3, gamma='scale', kernel='rbf',\n",
       "    max_iter=-1, probability=False, random_state=None, shrinking=True,\n",
       "    tol=0.001, verbose=False)"
      ]
     },
     "execution_count": 82,
     "metadata": {},
     "output_type": "execute_result"
    }
   ],
   "source": [
    "joblib.load('svc_model_titanic_dataset.obj')"
   ]
  },
  {
   "cell_type": "code",
   "execution_count": null,
   "metadata": {},
   "outputs": [],
   "source": []
  }
 ],
 "metadata": {
  "kernelspec": {
   "display_name": "Python 3",
   "language": "python",
   "name": "python3"
  },
  "language_info": {
   "codemirror_mode": {
    "name": "ipython",
    "version": 3
   },
   "file_extension": ".py",
   "mimetype": "text/x-python",
   "name": "python",
   "nbconvert_exporter": "python",
   "pygments_lexer": "ipython3",
   "version": "3.7.6"
  }
 },
 "nbformat": 4,
 "nbformat_minor": 4
}
